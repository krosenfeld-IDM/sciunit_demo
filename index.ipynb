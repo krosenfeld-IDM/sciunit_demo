{
 "cells": [
  {
   "cell_type": "markdown",
   "id": "4912de12",
   "metadata": {
    "slideshow": {
     "slide_type": "slide"
    }
   },
   "source": [
    "# SciUnit Demo\n",
    "\n",
    "K. Rosenfeld\n",
    "\n",
    "Measles Team Meeting\n",
    "\n",
    "12/13/2021"
   ]
  },
  {
   "cell_type": "markdown",
   "id": "00dcbe36",
   "metadata": {
    "slideshow": {
     "slide_type": "notes"
    }
   },
   "source": [
    "To create slides:\n",
    "```\n",
    "jupyter nbconvert demo-20211213.ipynb --to slides --TagRemovePreprocessor.remove_input_tags={\\\"to_remove\\\"} --post serve --SlidesExporter.reveal_transition=none --SlidesExporter.reveal_scroll=True \n",
    "```\n",
    "\n",
    "- https://medium.com/learning-machine-learning/present-your-data-science-projects-with-jupyter-slides-75f20735eb0f\n",
    "- https://www.michaelkam.id/data-visualisation/2020/06/28/creating-an-interactive-presentation-with-jupyter-notebook-and-plotly.html\n",
    "- https://blog.kdheepak.com/jupyter-notebook-revealjs-and-github-pages.html\n",
    "- https://nbconvert.readthedocs.io/en/latest/config_options.html"
   ]
  },
  {
   "cell_type": "markdown",
   "id": "a2ab8f75",
   "metadata": {
    "slideshow": {
     "slide_type": "slide"
    }
   },
   "source": [
    "## Code vs. Model Review\n",
    "\n",
    "### Code review\n",
    "1. What functionality is a component expected to have?\n",
    "2. What functionality has been adequately implemented? What remains to be done?\n",
    "3. Does a candidate code contribution cause regressions in other parts of a program?\n",
    "\n",
    "<span style=\"color:white\">br</span>\n",
    "\n",
    "### Model review\n",
    "1. What is a model's scope and how is validity measured?\n",
    "2. Which observations are already explained by existing models? What are the best models of a particular quantity? What data has yet to be explained?\n",
    "3. What effect do new observations have on the validity of previously published models? Can new models explain previously published data?"
   ]
  },
  {
   "cell_type": "markdown",
   "id": "64d5888d",
   "metadata": {
    "slideshow": {
     "slide_type": "subslide"
    }
   },
   "source": [
    "<img src=\"images/sci-unit-square-small.png\"\n",
    "     width= \"100\"\n",
    "     height= auto\n",
    "     align=\"left\"\n",
    "     style=\"float: left; margin-right: 10px;\" /> \n",
    "     \n",
    "This presentation focuses on [SciUnit](https://scidash.org/sciunit.html), a Pythonic framework for data-driven unit testing. SciUnit is used to create a *domain specific* model review package. The package can then be applied across models.  For each model you create a `sciunit.Model` for a `sciunit.Capability` that will be judged by a `sciunit.Test`.     \n",
    "\n",
    "```python\n",
    "my_model = MyModel(**my_args) # Instantiate a class that wraps your model of interest.  \n",
    "my_test = MyTest(**my_params) # Instantiate a test that you write.  \n",
    "score = my_test.judge() # Runs the test and return a rich score containing test results and more.  \n",
    "```\n",
    "\n",
    "SciUnit contributions 2012-2021:\n",
    "<img src=\"images/sciunit_history_12132021.png\"\n",
    "     width= \"800\"\n",
    "     height= auto\n",
    "     align=\"center\"\n",
    "     style=\"float: left; margin-right: 10px;\" /> \n",
    "     \n",
    "ISSE conference paper from 2014 and an active repository. Heavy users in neuroscience ([NeuronUnit](https://scidash.org/neuronunit.html))"
   ]
  },
  {
   "cell_type": "markdown",
   "id": "aba276b1",
   "metadata": {
    "slideshow": {
     "slide_type": "slide"
    }
   },
   "source": [
    "## Hypothetical example for orbital mechanics\n",
    "\n"
   ]
  },
  {
   "cell_type": "markdown",
   "id": "e55cc2e2",
   "metadata": {
    "slideshow": {
     "slide_type": "subslide"
    }
   },
   "source": [
    "## orbital mechanics: tests\n",
    "\n",
    "*Test classes* are data-agnostic\n",
    "\n",
    "```python\n",
    "from cosmounit import PositionTest, VelocityTest, EccentricityyTest # Cosmounit is an external library.\n",
    "\n",
    "```\n",
    "\n",
    "and *test instances* encode the data you want a model to recapitulate.\n",
    "```python\n",
    "from . import saturn_data # Hypothetical library containing Saturn data.  \n",
    "position_test = PositionTest(observation=saturn_data.position)\n",
    "velocity_test = VelocityTest(observation=saturn_data.velocity)\n",
    "eccentricity_test = EccentricityTest(observation=saturn_data.eccentricity)\n",
    "```"
   ]
  },
  {
   "cell_type": "markdown",
   "id": "c3f9238c",
   "metadata": {
    "slideshow": {
     "slide_type": "subslide"
    }
   },
   "source": [
    "## orbital mechanics: models\n",
    "\n",
    "Orbital models can predict any planet, but we are interested in Saturn:\n",
    "\n",
    "```python\n",
    "from cosmounit import PtolemyModel, CopernicusModel, KeplerModel, NewtonModel  \n",
    "ptolemy_model = PtolemyModel(planet='Saturn')\n",
    "copernicus_model = CopernicusModel(planet='Saturn')\n",
    "kepler_model = KeplerModel(planet='Saturn')\n",
    "newton_model = NewtonModel(planet='Saturn')\n",
    "```"
   ]
  },
  {
   "cell_type": "markdown",
   "id": "e206a951",
   "metadata": {
    "slideshow": {
     "slide_type": "subslide"
    }
   },
   "source": [
    "## orbital mechanics: test suite\n",
    "\n",
    "```python\n",
    "from saturn_suite.suites import saturn_motion_suite\n",
    "saturn_motion_suite.judge([ptolemy_model, copernicus_model, kepler_model, newton_model])\n",
    "```"
   ]
  },
  {
   "cell_type": "markdown",
   "id": "c9fbf91f",
   "metadata": {
    "slideshow": {
     "slide_type": "fragment"
    }
   },
   "source": [
    "<img src=\"images/cosmo_example.png\"\n",
    "     width= \"800\"\n",
    "     height= auto\n",
    "     align=\"center\"\n",
    "     style=\"float: left; margin-right: 10px;\" />      "
   ]
  },
  {
   "cell_type": "markdown",
   "id": "a735488c",
   "metadata": {
    "slideshow": {
     "slide_type": "slide"
    }
   },
   "source": [
    "## Hypothetical example for measles / epi"
   ]
  },
  {
   "cell_type": "markdown",
   "id": "2bd0145b",
   "metadata": {
    "slideshow": {
     "slide_type": "subslide"
    }
   },
   "source": [
    "## measles epi: tests\n",
    "\n",
    "Tests could be location specific or a theoretical result.\n",
    "\n",
    "```python\n",
    "from . import measles_data # Hypothetical library containing measles data.  \n",
    "from epiunit import CCSTest, AgeAtInfTest # epiunit is an external library.\n",
    "ccs_test = CCSTest(observation=measles.ccs)\n",
    "age_at_inf_test = AgeAtInfTest(observation=measles.Nigeria)\n",
    "seas_test = SeasonalityTest(observation=measles.Nigeria)\n",
    "```\n",
    "\n",
    "and packaged up into a location specific test suite:\n",
    "\n",
    "```python\n",
    "nigeria_epi_suite = sciunit.TestSuite([ccs_test, age_at_inf_test, seas_test])\n",
    "```\n"
   ]
  },
  {
   "cell_type": "markdown",
   "id": "6f0d1831",
   "metadata": {
    "slideshow": {
     "slide_type": "subslide"
    }
   },
   "source": [
    "## measles epi: models\n",
    "\n",
    "Models could be differentiated by version, features, type, etc...\n",
    "\n",
    "```python\n",
    "from enod_package import EmodModel\n",
    "from tsir_package import TSIRModel, DynaMICEModel \n",
    "emod_model = EmodModel(location='Nigeria')\n",
    "tsir_model = TSIRModel(location='Nigeria')\n",
    "mice_model = DynaMICEModel(location='Nigeria')\n",
    "```"
   ]
  },
  {
   "cell_type": "markdown",
   "id": "49a8222c",
   "metadata": {
    "slideshow": {
     "slide_type": "fragment"
    }
   },
   "source": [
    "## measles epi: test suite\n",
    "\n",
    "```python\n",
    "from epi_suite.suites import nigeria_epi_suite\n",
    "nigeria_epi_suite.judge([emod_model, tsir_model, mice_model])\n",
    "```\n",
    "\n",
    "Models do not need to be capable across the entire suite."
   ]
  },
  {
   "cell_type": "markdown",
   "id": "e666ccbb",
   "metadata": {
    "slideshow": {
     "slide_type": "slide"
    }
   },
   "source": [
    "## Example test suite: constant number generation"
   ]
  },
  {
   "cell_type": "markdown",
   "id": "0cfd8e90",
   "metadata": {
    "slideshow": {
     "slide_type": "subslide"
    }
   },
   "source": [
    "## Capababilities\n",
    "\n",
    "Every model has a capability it aims to implement:\n",
    "\n",
    "```python\n",
    "class ProducesNumber(sciunit.Capability):\n",
    "    \"\"\"An example capability for producing some generic number.\"\"\"\n",
    "\n",
    "    def produce_number(self):\n",
    "        \"\"\"The implementation of this method should return a number.\"\"\"\n",
    "        raise NotImplementedError(\"Must implement produce_number.\")\n",
    "```\n",
    "\n",
    "Each model may have a unique method for that particular capability:\n",
    "    \n",
    "```python\n",
    "class ConstModel(sciunit.Model, ProducesNumber):\n",
    "\"\"\"A model that always produces a constant number as output.\"\"\"\n",
    "\n",
    "def __init__(self, constant, name=None):\n",
    "    self.constant = constant \n",
    "    super(ConstModel, self).__init__(name=name, constant=constant)\n",
    "\n",
    "def produce_number(self):\n",
    "    return self.constant\n",
    "```\n",
    "\n",
    "and create a model instance:\n",
    "```python\n",
    "const_model_37 = ConstModel(37, name='Constant Model 37')\n",
    "```"
   ]
  },
  {
   "cell_type": "markdown",
   "id": "51c3ba85",
   "metadata": {
    "slideshow": {
     "slide_type": "subslide"
    }
   },
   "source": [
    "## Tests\n",
    "\n",
    "A `sciunit.Test` class must contain:\n",
    "    \n",
    "1. Required model capabilities and type of score\n",
    "3. `generate_prediction` to get model prediction\n",
    "4. `compute_score` to compute a `sciunit.Score`\n",
    "\n",
    "```python\n",
    "## Example test class\n",
    "class EqualsTest(sciunit.Test):\n",
    "    \"\"\"Tests if the model predicts the same number as the observation.\"\"\"   \n",
    "    \n",
    "    required_capabilities = (ProducesNumber,) # The one capability required for a model to take this test.  \n",
    "    score_type = sciunit.scores.BooleanScore # This test's 'judge' method will return a BooleanScore.  \n",
    "    \n",
    "    def generate_prediction(self, model):\n",
    "        return model.produce_number() # The model has this method if it inherits from the 'ProducesNumber' capability.\n",
    "    \n",
    "    def compute_score(self, observation, prediction):\n",
    "        score = self.score_type(observation['value'] == prediction) # Returns a BooleanScore. \n",
    "        score.description = 'Passing score if the prediction equals the observation'\n",
    "        return score\n",
    "```       \n",
    "```python\n",
    "## Example test instance\n",
    "# create test instances\n",
    "equals_37_test = EqualsTest({'value': 37}, name='=37') # Test model output equals 37.\n",
    "equals_1_test = EqualsTest({'value': 1}, name='=1') # Test model output equals 1.  \n",
    "\n",
    "# create test suite\n",
    "equals_suite = sciunit.TestSuite([equals_1_test, equals_2_test, equals_37_test], name=\"Equals test suite\")\n",
    "\n",
    "# run suite\n",
    "score_matrix = equals_suite.judge(const_model_37)\n",
    "```"
   ]
  },
  {
   "cell_type": "code",
   "execution_count": 3,
   "id": "7dc64d34",
   "metadata": {
    "slideshow": {
     "slide_type": "skip"
    }
   },
   "outputs": [
    {
     "name": "stdout",
     "output_type": "stream",
     "text": [
      "\u001b[38;2;230;78;52m\u001b[48;2;50;50;50mScore: Fail for Constant Model 37 on =1\u001b[0m\n",
      "\u001b[38;2;60;169;88m\u001b[48;2;50;50;50mScore: Pass for Constant Model 37 on =37\u001b[0m\n"
     ]
    }
   ],
   "source": [
    "import sciunit\n",
    "from sciunit.capabilities import ProducesNumber # One of many potential model capabilities.\n",
    "\n",
    "class ConstModel(sciunit.Model, \n",
    "                 ProducesNumber):\n",
    "    \"\"\"A model that always produces a constant number as output.\"\"\"\n",
    "    \n",
    "    def __init__(self, constant, name=None):\n",
    "        self.constant = constant \n",
    "        super(ConstModel, self).__init__(name=name, constant=constant)\n",
    "\n",
    "    def produce_number(self):\n",
    "        return self.constant\n",
    "    \n",
    "const_model_37 = ConstModel(37, name=\"Constant Model 37\")    \n",
    "\n",
    "from sciunit.scores import BooleanScore # One of several SciUnit score types.  \n",
    "\n",
    "class EqualsTest(sciunit.Test):\n",
    "    \"\"\"Tests if the model predicts \n",
    "    the same number as the observation.\"\"\"   \n",
    "    \n",
    "    required_capabilities = (ProducesNumber,) # The one capability required for a model to take this test.  \n",
    "    score_type = BooleanScore # This test's 'judge' method will return a BooleanScore.  \n",
    "    \n",
    "    def generate_prediction(self, model):\n",
    "        return model.produce_number() # The model has this method if it inherits from the 'ProducesNumber' capability.\n",
    "    \n",
    "    def compute_score(self, observation, prediction):\n",
    "        score = self.score_type(observation['value'] == prediction) # Returns a BooleanScore. \n",
    "        score.description = 'Passing score if the prediction equals the observation'\n",
    "        return score\n",
    "    \n",
    "# create test instances\n",
    "equals_37_test = EqualsTest({'value': 37}, name='=37') # Test model output equals 37.\n",
    "equals_1_test = EqualsTest({'value': 1}, name='=1') # Test model output equals 1.  \n",
    "\n",
    "# create test suite\n",
    "equals_suite = sciunit.TestSuite([equals_1_test,  equals_37_test], name=\"Equals test suite\")\n",
    "\n",
    "# run suite\n",
    "score_matrix = equals_suite.judge(const_model_37)"
   ]
  },
  {
   "cell_type": "code",
   "execution_count": 2,
   "id": "3ecc1750",
   "metadata": {
    "slideshow": {
     "slide_type": "fragment"
    },
    "tags": [
     "to_remove"
    ]
   },
   "outputs": [
    {
     "data": {
      "text/html": [
       "<style type=\"text/css\">\n",
       "#T_49683_row0_col0 {\n",
       "  background-color: rgb(50, 50, 50);\n",
       "  color: rgb(230, 78, 52);\n",
       "  text-align: center;\n",
       "}\n",
       "#T_49683_row0_col1 {\n",
       "  background-color: rgb(50, 50, 50);\n",
       "  color: rgb(60, 169, 88);\n",
       "  text-align: center;\n",
       "}\n",
       "</style>\n",
       "<table id=\"T_49683_\">\n",
       "  <thead>\n",
       "    <tr>\n",
       "      <th class=\"blank level0\" >&nbsp;</th>\n",
       "      <th class=\"col_heading level0 col0\" >=1</th>\n",
       "      <th class=\"col_heading level0 col1\" >=37</th>\n",
       "    </tr>\n",
       "  </thead>\n",
       "  <tbody>\n",
       "    <tr>\n",
       "      <th id=\"T_49683_level0_row0\" class=\"row_heading level0 row0\" >Constant Model 37</th>\n",
       "      <td id=\"T_49683_row0_col0\" class=\"data row0 col0\" >Fail</td>\n",
       "      <td id=\"T_49683_row0_col1\" class=\"data row0 col1\" >Pass</td>\n",
       "    </tr>\n",
       "  </tbody>\n",
       "</table>\n"
      ],
      "text/plain": [
       "                     =1   =37\n",
       "Constant Model 37  Fail  Pass"
      ]
     },
     "execution_count": 2,
     "metadata": {},
     "output_type": "execute_result"
    }
   ],
   "source": [
    "score_matrix"
   ]
  },
  {
   "cell_type": "markdown",
   "id": "b56c3982",
   "metadata": {
    "slideshow": {
     "slide_type": "slide"
    }
   },
   "source": [
    "### Score types\n",
    "\n",
    "Complete [score types](https://sciunit.readthedocs.io/en/latest/basics.html#score) in SciUnit are: \n",
    "1. [`BooleanScore`](https://sciunit.readthedocs.io/en/latest/sciunit.scores.html#sciunit.scores.complete.BooleanScore): true or false\n",
    "2. [`ZScore`](https://sciunit.readthedocs.io/en/latest/sciunit.scores.html#sciunit.scores.complete.ZScore): standardized difference from the mean\n",
    "3. [`CohenDScore`](https://sciunit.readthedocs.io/en/latest/sciunit.scores.html#sciunit.scores.complete.CohenDScore): normalized difference between two means\n",
    "4. [`RatioScore`](https://sciunit.readthedocs.io/en/latest/sciunit.scores.html#sciunit.scores.complete.RatioScore): ratio of two numbers\n",
    "5. [`PercentScore`](https://sciunit.readthedocs.io/en/latest/sciunit.scores.html#sciunit.scores.complete.PercentScore): float between 0 and 100\n",
    "6. [`FloatScore`](https://sciunit.readthedocs.io/en/latest/sciunit.scores.html#sciunit.scores.complete.FloatScore): a float\n",
    "\n",
    "Incomplete score types are also included (`NoneScore`, `TBDScore`, `NAScore`, `InsufficientDataScore`).\n",
    "\n",
    "SciUnit does not include statistical tests (ex. Kolmogorov–Smirnov test, Cramér–von Mises test) for comparing distributions."
   ]
  },
  {
   "cell_type": "markdown",
   "id": "22224b02",
   "metadata": {
    "slideshow": {
     "slide_type": "slide"
    }
   },
   "source": [
    "SciUnit is only one way of tackling this problem. It requires support and time to write the tests but they can be wrapped around the final model. Test can be applied across models.\n",
    "\n",
    "### Model validation:\n",
    "\n",
    "- sciunit (python)\n",
    "- scinunits (linux)\n",
    "- idm-test (python)\n",
    "\n",
    "*Paper reproduction*:\n",
    "\n",
    "- [showyourwork](https://github.com/rodluger/showyourwork)\n",
    "\n",
    "**References**:\n",
    "- SciUnit [paper](https://github.com/cyrus-/papers/raw/master/sciunit-icse14/sciunit-icse14.pdf)\n",
    "- SciUnit [docs and tutorials](https://sciunit.readthedocs.io/en/latest/)\n"
   ]
  }
 ],
 "metadata": {
  "celltoolbar": "Slideshow",
  "kernelspec": {
   "display_name": "Python 3 (ipykernel)",
   "language": "python",
   "name": "python3"
  },
  "language_info": {
   "codemirror_mode": {
    "name": "ipython",
    "version": 3
   },
   "file_extension": ".py",
   "mimetype": "text/x-python",
   "name": "python",
   "nbconvert_exporter": "python",
   "pygments_lexer": "ipython3",
   "version": "3.8.12"
  }
 },
 "nbformat": 4,
 "nbformat_minor": 5
}
